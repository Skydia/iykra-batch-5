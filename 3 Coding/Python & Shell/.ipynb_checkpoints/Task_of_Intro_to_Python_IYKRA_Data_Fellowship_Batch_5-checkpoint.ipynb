{
 "cells": [
  {
   "cell_type": "markdown",
   "metadata": {
    "id": "3oWBbYjNHlu7"
   },
   "source": [
    "Berikut ini adalah contoh data pengguna aplikasi streaming musik. Buatlah sebuah system rekomendasi sederhana menggunakan data berikut ini:\n",
    "\n",
    "\n",
    "> **Ada penambahan user baru yakni: Angga dan Solihah**"
   ]
  },
  {
   "cell_type": "markdown",
   "metadata": {
    "id": "f8GawG31lRzf"
   },
   "source": [
    "| |Cherrybelle|Kangen Band|Netral|PAS Band|SM*SH|The Rain|Ungu|\n",
    "|---|---|---|---|---|---|---|--|\n",
    "|Agus|4.0|4.5|2.5||3.5||5.0|\n",
    "|Andi||2.0|5.0|4.5||||\n",
    "|Angga||||||4.5||\n",
    "|Indah||3.5|4.5|5.0|||4.0|\n",
    "|Siti|4.0|4.0||1.0|5.0||3.5|\n",
    "|Solihah|4.0|4.0||1.0|5.0||3.5|\n"
   ]
  },
  {
   "cell_type": "markdown",
   "metadata": {
    "id": "O_MU9oaHH6rm"
   },
   "source": [
    "Gunakanlah metode **Eucledian Distance** yang memiliki formula sebagai berikut:\n",
    "\n",
    "$d(x,y) = \\sqrt{\\sum \\limits_{k=1} ^{n}(x_{k} - y_{k})^{2}}$"
   ]
  },
  {
   "cell_type": "markdown",
   "metadata": {
    "id": "0NzY6fpdXacC"
   },
   "source": [
    "Berikut ini [referensi](https://colab.research.google.com/drive/1QswJVl5bxocK-ZL56_GYnQ0YOYjlpAj3?authuser=2#scrollTo=6molI_MzH4iX) untuk tugas di atas.\n",
    "\n",
    "> **`Hint:`**\n",
    "\n",
    "> **`Ada beberapa bagian dalam tugas di atas yang belum dipraktekkan di referensi. Tapi santai, google selalu siap membantumu di saat kesulitan dan error datang.`**\n",
    "\n",
    "> **`Jika ada dua orang atau lebih memiliki jarak yang yang sama ke user tertentu pilih yang pertama muncul. Misal hasil pengukuran distancenya sebagai berikut: [(1.0, 'Sholih'),(1.0, 'Amad'),(3.0, 'Udin')] maka yang dipilih adalah 'Sholih'.`**\n",
    "\n",
    "\n",
    "> **`Distance hanya terbentuk jika kedua user memeberi rating pada musisi yang sama. Jika userA tidak memiliki pasangan user lain yang memberikan rating pada musisi yang sama maka userA tersebut tidak memiliki distance ke siapapun.`**\n",
    "\n",
    "> **`Tidak masalah jika dalam rekomendasi menghasilkan list kosong karena jarak terdekat telah memberi rating ke musisi yang sama.`**\n",
    "\n",
    "> **`Tidak masalah jika dalam rekomendasi menghasilkan list kosong karena tidak memiliki distance ke siapapun.`**\n"
   ]
  },
  {
   "cell_type": "markdown",
   "metadata": {
    "id": "D6NzPd5Xd6iE"
   },
   "source": [
    "Implementasikan solusi dalam dua paradigma pemrograman, ***functional programming*** dan ***object oriented programming***."
   ]
  },
  {
   "cell_type": "code",
   "execution_count": 1,
   "metadata": {
    "ExecuteTime": {
     "end_time": "2021-02-18T07:54:00.306234Z",
     "start_time": "2021-02-18T07:54:00.300250Z"
    }
   },
   "outputs": [],
   "source": [
    "users = {\"Agus\":{\"Cherrybelle\": 4.0,\n",
    "                 \"Kangen Band\": 4.5,\n",
    "                 \"Netral\": 2.5,\n",
    "                 \"SM*SH\": 3.5,\n",
    "                 \"Ungu\": 5.0},\n",
    "         \"Andi\":{\"Kangen Band\":2.0,\n",
    "                 \"Netral\":5.0,\n",
    "                 \"PAS Band\":4.5},\n",
    "         \"Angga\":{\"The rain\":4.5},\n",
    "         \"Indah\":{\"Kangen Band\":3.5,\n",
    "                  \"Netral\":4.5,\n",
    "                  \"PAS Band\":5.0,\n",
    "                  \"Ungu\":4.0},\n",
    "         \"Siti\":{\"Cherrybelle\":4.0,\n",
    "                 \"Kangen Band\":4.0,\n",
    "                 \"PAS Band\":1.0,\n",
    "                 \"SM*SH\":5.0,\n",
    "                 \"Ungu\":3.5},\n",
    "        \"Solihah\":{\"Cherrybelle\":4.0,\n",
    "                 \"Kangen Band\":4.0,\n",
    "                 \"PAS Band\":1.0,\n",
    "                 \"SM*SH\":5.0,\n",
    "                 \"Ungu\":3.5}}\n",
    "names = [\"Agus\",\"Andi\",\"Angga\",\"Indah\",\"Siti\",\"Solihah\"]"
   ]
  },
  {
   "cell_type": "markdown",
   "metadata": {},
   "source": [
    "# Functional Programming"
   ]
  },
  {
   "cell_type": "code",
   "execution_count": 2,
   "metadata": {
    "ExecuteTime": {
     "end_time": "2021-02-18T07:54:00.318201Z",
     "start_time": "2021-02-18T07:54:00.307232Z"
    }
   },
   "outputs": [],
   "source": [
    "from math import sqrt\n",
    "def euclidean(rating1, rating2):\n",
    "    distance = 0.0\n",
    "    key_available = False\n",
    "    for key in rating1.keys():\n",
    "        if key in rating2.keys():\n",
    "            key_available = True\n",
    "            distance += (rating1[key]-rating2[key])**2\n",
    "    distance = sqrt(distance)\n",
    "    if key_available == True:\n",
    "        return distance"
   ]
  },
  {
   "cell_type": "code",
   "execution_count": 3,
   "metadata": {
    "ExecuteTime": {
     "end_time": "2021-02-18T07:54:00.330170Z",
     "start_time": "2021-02-18T07:54:00.320197Z"
    }
   },
   "outputs": [
    {
     "name": "stdout",
     "output_type": "stream",
     "text": [
      "Andi -> Agus:  3.5355339059327378\n",
      "Indah -> Agus:  2.449489742783178\n",
      "Angga -> Agus:  None\n"
     ]
    }
   ],
   "source": [
    "print(\"Andi -> Agus: \", euclidean(users[\"Agus\"],users[\"Andi\"]))\n",
    "print(\"Indah -> Agus: \", euclidean(users[\"Agus\"],users[\"Indah\"]))\n",
    "print(\"Angga -> Agus: \", euclidean(users[\"Agus\"],users[\"Angga\"]))"
   ]
  },
  {
   "cell_type": "code",
   "execution_count": 4,
   "metadata": {
    "ExecuteTime": {
     "end_time": "2021-02-18T07:54:00.355103Z",
     "start_time": "2021-02-18T07:54:00.331167Z"
    }
   },
   "outputs": [],
   "source": [
    "def nearestNeighbor(username, data):\n",
    "  distances = []\n",
    "  for user in data:\n",
    "    if user != username:\n",
    "      distance = euclidean(data[username], data[user])\n",
    "      if distance != None:\n",
    "          distances.append((distance, user))\n",
    "  distances.sort()\n",
    "  return distances"
   ]
  },
  {
   "cell_type": "code",
   "execution_count": 5,
   "metadata": {
    "ExecuteTime": {
     "end_time": "2021-02-18T07:54:00.372057Z",
     "start_time": "2021-02-18T07:54:00.359092Z"
    }
   },
   "outputs": [
    {
     "name": "stdout",
     "output_type": "stream",
     "text": [
      "Closest Neighbor for Agus:  (2.179449471770337, 'Siti')\n",
      "Closest Neighbor for Andi:  (1.6583123951777, 'Indah')\n",
      "Closest Neighbor for Angga: Unavailable\n",
      "Closest Neighbor for Indah:  (1.6583123951777, 'Andi')\n",
      "Closest Neighbor for Siti:  (0.0, 'Solihah')\n",
      "Closest Neighbor for Solihah:  (0.0, 'Siti')\n"
     ]
    }
   ],
   "source": [
    "for name in names:\n",
    "    neighbor = nearestNeighbor(name, users)\n",
    "    if not neighbor:\n",
    "        print(\"Closest Neighbor for \"+name+ \": Unavailable\")\n",
    "    else:\n",
    "        print(\"Closest Neighbor for \"+name+ \": \",neighbor[0])"
   ]
  },
  {
   "cell_type": "code",
   "execution_count": 6,
   "metadata": {
    "ExecuteTime": {
     "end_time": "2021-02-18T07:54:00.382058Z",
     "start_time": "2021-02-18T07:54:00.373055Z"
    }
   },
   "outputs": [],
   "source": [
    "def recommend(username, data):\n",
    "  recommendations = []\n",
    "  try:\n",
    "      nearest = nearestNeighbor(username, data)[0][1]\n",
    "      nearestRatings = data[nearest]\n",
    "      userRatings = data[username]\n",
    "      for artist in nearestRatings:\n",
    "        if artist not in userRatings:\n",
    "          recommendations.append((nearestRatings[artist], artist))\n",
    "      recommendations.sort(reverse=True)\n",
    "      if not recommendations:\n",
    "            return \"Recommendation for \"+username+\" unavailable.\"\n",
    "      else:\n",
    "            return recommendations\n",
    "  except:\n",
    "    return \"Recommendation for \"+username+\" unavailable.\""
   ]
  },
  {
   "cell_type": "code",
   "execution_count": 7,
   "metadata": {
    "ExecuteTime": {
     "end_time": "2021-02-18T07:54:00.394996Z",
     "start_time": "2021-02-18T07:54:00.383029Z"
    }
   },
   "outputs": [
    {
     "name": "stdout",
     "output_type": "stream",
     "text": [
      "Recommendation for Agus:  [(1.0, 'PAS Band')]\n",
      "Recommendation for Andi:  [(4.0, 'Ungu')]\n",
      "Recommendation for Angga:  Recommendation for Angga unavailable.\n",
      "Recommendation for Indah:  Recommendation for Indah unavailable.\n",
      "Recommendation for Siti:  Recommendation for Siti unavailable.\n",
      "Recommendation for Solihah:  Recommendation for Solihah unavailable.\n"
     ]
    }
   ],
   "source": [
    "for name in names:\n",
    "    print(\"Recommendation for \"+name+ \": \",recommend(name, users))"
   ]
  },
  {
   "cell_type": "markdown",
   "metadata": {},
   "source": [
    "# Object Oriented Programming"
   ]
  },
  {
   "cell_type": "code",
   "execution_count": 8,
   "metadata": {
    "ExecuteTime": {
     "end_time": "2021-02-18T07:54:00.407962Z",
     "start_time": "2021-02-18T07:54:00.397990Z"
    },
    "hide_input": false
   },
   "outputs": [],
   "source": [
    "class recommender:\n",
    "  def __init__(self, data):\n",
    "    self.data = data\n",
    "\n",
    "  from math import sqrt\n",
    "  def euclidean(self, username1, username2):\n",
    "    rating1 = self.data[username1]\n",
    "    rating2 = self.data[username2]\n",
    "    distance = 0.0\n",
    "    key_available = False\n",
    "    for key in rating1.keys():\n",
    "        if key in rating2.keys():\n",
    "            key_available = True\n",
    "            distance += (rating1[key]-rating2[key])**2\n",
    "    distance = sqrt(distance)\n",
    "    if key_available == True:\n",
    "        return distance\n",
    "\n",
    "  def nearestNeighbor(self, username):\n",
    "      distances = []\n",
    "      for user in self.data:\n",
    "        if user != username:\n",
    "          distance = self.euclidean(username, user)\n",
    "          if distance != None:\n",
    "              distances.append((distance, user))\n",
    "      distances.sort()\n",
    "      return distances\n",
    "\n",
    "  def recommend(self, username):\n",
    "      recommendations = []\n",
    "      try:\n",
    "          nearest = self.nearestNeighbor(username)[0][1]\n",
    "          nearestRatings = self.data[nearest]\n",
    "          userRatings = self.data[username]\n",
    "          for artist in nearestRatings:\n",
    "            if artist not in userRatings:\n",
    "              recommendations.append((nearestRatings[artist], artist))\n",
    "          recommendations.sort(reverse=True)\n",
    "          if not recommendations:\n",
    "                return \"Recommendation for \"+username+\" unavailable.\"\n",
    "          else:\n",
    "                return recommendations\n",
    "      except:\n",
    "        return \"Recommendation for \"+username+\" unavailable.\""
   ]
  },
  {
   "cell_type": "code",
   "execution_count": 9,
   "metadata": {
    "ExecuteTime": {
     "end_time": "2021-02-18T07:54:00.415964Z",
     "start_time": "2021-02-18T07:54:00.409957Z"
    }
   },
   "outputs": [],
   "source": [
    "users_r = recommender(users)"
   ]
  },
  {
   "cell_type": "code",
   "execution_count": 10,
   "metadata": {
    "ExecuteTime": {
     "end_time": "2021-02-18T07:54:00.427909Z",
     "start_time": "2021-02-18T07:54:00.418932Z"
    }
   },
   "outputs": [
    {
     "name": "stdout",
     "output_type": "stream",
     "text": [
      "Closest Neighbor for Agus:  (2.179449471770337, 'Siti')\n",
      "Closest Neighbor for Andi:  (1.6583123951777, 'Indah')\n",
      "Closest Neighbor for Angga: Unavailable\n",
      "Closest Neighbor for Indah:  (1.6583123951777, 'Andi')\n",
      "Closest Neighbor for Siti:  (0.0, 'Solihah')\n",
      "Closest Neighbor for Solihah:  (0.0, 'Siti')\n"
     ]
    }
   ],
   "source": [
    "for name in names:\n",
    "    neighbor_list = users_r.nearestNeighbor(name)\n",
    "    if not neighbor_list:\n",
    "        print(\"Closest Neighbor for \"+name+ \": Unavailable\")\n",
    "    else:\n",
    "        print(\"Closest Neighbor for \"+name+ \": \",neighbor_list[0])"
   ]
  },
  {
   "cell_type": "code",
   "execution_count": 11,
   "metadata": {
    "ExecuteTime": {
     "end_time": "2021-02-18T07:54:00.437882Z",
     "start_time": "2021-02-18T07:54:00.428905Z"
    }
   },
   "outputs": [
    {
     "name": "stdout",
     "output_type": "stream",
     "text": [
      "Recommendation for Agus:  [(1.0, 'PAS Band')]\n",
      "Recommendation for Andi:  [(4.0, 'Ungu')]\n",
      "Recommendation for Angga:  Recommendation for Angga unavailable.\n",
      "Recommendation for Indah:  Recommendation for Indah unavailable.\n",
      "Recommendation for Siti:  Recommendation for Siti unavailable.\n",
      "Recommendation for Solihah:  Recommendation for Solihah unavailable.\n"
     ]
    }
   ],
   "source": [
    "for name in names:\n",
    "    print(\"Recommendation for \"+name+ \": \",users_r.recommend(name))"
   ]
  },
  {
   "cell_type": "markdown",
   "metadata": {},
   "source": [
    "Done!"
   ]
  }
 ],
 "metadata": {
  "colab": {
   "collapsed_sections": [],
   "name": "Task of Intro to Python- IYKRA Data Fellowship Batch 5.ipynb",
   "provenance": []
  },
  "kernelspec": {
   "display_name": "Python 3",
   "language": "python",
   "name": "python3"
  },
  "language_info": {
   "codemirror_mode": {
    "name": "ipython",
    "version": 3
   },
   "file_extension": ".py",
   "mimetype": "text/x-python",
   "name": "python",
   "nbconvert_exporter": "python",
   "pygments_lexer": "ipython3",
   "version": "3.7.4"
  },
  "toc": {
   "base_numbering": 1,
   "nav_menu": {},
   "number_sections": true,
   "sideBar": true,
   "skip_h1_title": false,
   "title_cell": "Table of Contents",
   "title_sidebar": "Contents",
   "toc_cell": false,
   "toc_position": {},
   "toc_section_display": true,
   "toc_window_display": false
  },
  "varInspector": {
   "cols": {
    "lenName": 16,
    "lenType": 16,
    "lenVar": 40
   },
   "kernels_config": {
    "python": {
     "delete_cmd_postfix": "",
     "delete_cmd_prefix": "del ",
     "library": "var_list.py",
     "varRefreshCmd": "print(var_dic_list())"
    },
    "r": {
     "delete_cmd_postfix": ") ",
     "delete_cmd_prefix": "rm(",
     "library": "var_list.r",
     "varRefreshCmd": "cat(var_dic_list()) "
    }
   },
   "types_to_exclude": [
    "module",
    "function",
    "builtin_function_or_method",
    "instance",
    "_Feature"
   ],
   "window_display": false
  }
 },
 "nbformat": 4,
 "nbformat_minor": 1
}
