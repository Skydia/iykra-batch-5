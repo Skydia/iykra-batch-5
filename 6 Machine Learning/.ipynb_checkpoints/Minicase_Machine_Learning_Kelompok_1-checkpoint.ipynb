{
 "cells": [
  {
   "cell_type": "markdown",
   "metadata": {
    "id": "3mBEn3rfoESA"
   },
   "source": [
    "This data set contains transaction data in a supermarket. You, as a data scientist at a retail company, are expected to be able to process the data that has been collected, so that it becomes valuable insight. Please answer the question below and explore your creativity. \n",
    "\n",
    "1. What items customers buy the most and are there any items we should ignore?\n",
    "2. What is our strategy to increase sales based on our export destination countries?\n",
    "3. Do customer segmentation appropriately. Please explain in detail and completely. \n",
    "4. Get the hidden insight from the data"
   ]
  },
  {
   "cell_type": "code",
   "execution_count": 1,
   "metadata": {
    "ExecuteTime": {
     "end_time": "2021-03-05T07:58:22.468082Z",
     "start_time": "2021-03-05T07:58:14.989759Z"
    },
    "colab": {
     "base_uri": "https://localhost:8080/"
    },
    "id": "ewc9s57ynSQB",
    "outputId": "8aa6f329-c70b-4014-9eec-fe960160f0f7"
   },
   "outputs": [],
   "source": [
    "#importing libraries\n",
    "import pandas as pd\n",
    "import matplotlib.pyplot as plt\n",
    "import seaborn as sns\n",
    "import numpy as np\n",
    "import scipy as sp\n",
    "import statsmodels.api as sm\n",
    "import statsmodels.tsa.api as smt\n",
    "import warnings\n",
    "from sklearn.linear_model import LinearRegression\n",
    "from sklearn.model_selection import train_test_split\n",
    "from statsmodels.stats.outliers_influence import variance_inflation_factor"
   ]
  },
  {
   "cell_type": "code",
   "execution_count": 2,
   "metadata": {
    "ExecuteTime": {
     "end_time": "2021-03-05T07:58:23.047630Z",
     "start_time": "2021-03-05T07:58:22.470077Z"
    },
    "colab": {
     "base_uri": "https://localhost:8080/",
     "height": 337
    },
    "id": "r9JHTrmJv56G",
    "outputId": "02a7a018-75d2-4c9e-eebb-23c11e0283c6"
   },
   "outputs": [],
   "source": [
    "#loading dataset\n",
    "df = pd.read_csv(\"ML_2_Fellow.csv\", header= 0,\n",
    "                        encoding= 'unicode_escape')"
   ]
  },
  {
   "cell_type": "code",
   "execution_count": 3,
   "metadata": {
    "ExecuteTime": {
     "end_time": "2021-03-05T07:58:23.067494Z",
     "start_time": "2021-03-05T07:58:23.048574Z"
    },
    "id": "bmSZCOUtyIbK"
   },
   "outputs": [
    {
     "data": {
      "text/html": [
       "<div>\n",
       "<style scoped>\n",
       "    .dataframe tbody tr th:only-of-type {\n",
       "        vertical-align: middle;\n",
       "    }\n",
       "\n",
       "    .dataframe tbody tr th {\n",
       "        vertical-align: top;\n",
       "    }\n",
       "\n",
       "    .dataframe thead th {\n",
       "        text-align: right;\n",
       "    }\n",
       "</style>\n",
       "<table border=\"1\" class=\"dataframe\">\n",
       "  <thead>\n",
       "    <tr style=\"text-align: right;\">\n",
       "      <th></th>\n",
       "      <th>Kode_Bayar</th>\n",
       "      <th>Kode_Barang</th>\n",
       "      <th>Barang</th>\n",
       "      <th>Jumlah</th>\n",
       "      <th>Tanggal_Transaksi</th>\n",
       "      <th>Harga_Satuan</th>\n",
       "      <th>Kode_Pelanggan</th>\n",
       "      <th>Negara</th>\n",
       "    </tr>\n",
       "  </thead>\n",
       "  <tbody>\n",
       "    <tr>\n",
       "      <td>0</td>\n",
       "      <td>536365</td>\n",
       "      <td>85123A</td>\n",
       "      <td>WHITE HANGING HEART T-LIGHT HOLDER</td>\n",
       "      <td>6.0</td>\n",
       "      <td>12/1/2010 8:26</td>\n",
       "      <td>2.55</td>\n",
       "      <td>17850.0</td>\n",
       "      <td>United Kingdom</td>\n",
       "    </tr>\n",
       "    <tr>\n",
       "      <td>1</td>\n",
       "      <td>536365</td>\n",
       "      <td>71053</td>\n",
       "      <td>WHITE METAL LANTERN</td>\n",
       "      <td>6.0</td>\n",
       "      <td>12/1/2010 8:26</td>\n",
       "      <td>3.39</td>\n",
       "      <td>17850.0</td>\n",
       "      <td>United Kingdom</td>\n",
       "    </tr>\n",
       "    <tr>\n",
       "      <td>2</td>\n",
       "      <td>536365</td>\n",
       "      <td>84406B</td>\n",
       "      <td>CREAM CUPID HEARTS COAT HANGER</td>\n",
       "      <td>8.0</td>\n",
       "      <td>12/1/2010 8:26</td>\n",
       "      <td>2.75</td>\n",
       "      <td>17850.0</td>\n",
       "      <td>United Kingdom</td>\n",
       "    </tr>\n",
       "    <tr>\n",
       "      <td>3</td>\n",
       "      <td>536365</td>\n",
       "      <td>84029G</td>\n",
       "      <td>KNITTED UNION FLAG HOT WATER BOTTLE</td>\n",
       "      <td>6.0</td>\n",
       "      <td>12/1/2010 8:26</td>\n",
       "      <td>3.39</td>\n",
       "      <td>17850.0</td>\n",
       "      <td>United Kingdom</td>\n",
       "    </tr>\n",
       "    <tr>\n",
       "      <td>4</td>\n",
       "      <td>536365</td>\n",
       "      <td>84029E</td>\n",
       "      <td>RED WOOLLY HOTTIE WHITE HEART.</td>\n",
       "      <td>6.0</td>\n",
       "      <td>12/1/2010 8:26</td>\n",
       "      <td>3.39</td>\n",
       "      <td>17850.0</td>\n",
       "      <td>United Kingdom</td>\n",
       "    </tr>\n",
       "    <tr>\n",
       "      <td>...</td>\n",
       "      <td>...</td>\n",
       "      <td>...</td>\n",
       "      <td>...</td>\n",
       "      <td>...</td>\n",
       "      <td>...</td>\n",
       "      <td>...</td>\n",
       "      <td>...</td>\n",
       "      <td>...</td>\n",
       "    </tr>\n",
       "    <tr>\n",
       "      <td>541904</td>\n",
       "      <td>581587</td>\n",
       "      <td>22613</td>\n",
       "      <td>PACK OF 20 SPACEBOY NAPKINS</td>\n",
       "      <td>12.0</td>\n",
       "      <td>12/9/2011 12:50</td>\n",
       "      <td>0.85</td>\n",
       "      <td>12680.0</td>\n",
       "      <td>France</td>\n",
       "    </tr>\n",
       "    <tr>\n",
       "      <td>541905</td>\n",
       "      <td>581587</td>\n",
       "      <td>22899</td>\n",
       "      <td>CHILDREN'S APRON DOLLY GIRL</td>\n",
       "      <td>6.0</td>\n",
       "      <td>12/9/2011 12:50</td>\n",
       "      <td>2.10</td>\n",
       "      <td>12680.0</td>\n",
       "      <td>France</td>\n",
       "    </tr>\n",
       "    <tr>\n",
       "      <td>541906</td>\n",
       "      <td>581587</td>\n",
       "      <td>23254</td>\n",
       "      <td>CHILDRENS CUTLERY DOLLY GIRL</td>\n",
       "      <td>4.0</td>\n",
       "      <td>12/9/2011 12:50</td>\n",
       "      <td>4.15</td>\n",
       "      <td>12680.0</td>\n",
       "      <td>France</td>\n",
       "    </tr>\n",
       "    <tr>\n",
       "      <td>541907</td>\n",
       "      <td>581587</td>\n",
       "      <td>23255</td>\n",
       "      <td>CHILDRENS CUTLERY CIRCUS PARADE</td>\n",
       "      <td>4.0</td>\n",
       "      <td>12/9/2011 12:50</td>\n",
       "      <td>4.15</td>\n",
       "      <td>12680.0</td>\n",
       "      <td>France</td>\n",
       "    </tr>\n",
       "    <tr>\n",
       "      <td>541908</td>\n",
       "      <td>581587</td>\n",
       "      <td>22138</td>\n",
       "      <td>BAKING SET 9 PIECE RETROSPOT</td>\n",
       "      <td>3.0</td>\n",
       "      <td>12/9/2011 12:50</td>\n",
       "      <td>4.95</td>\n",
       "      <td>12680.0</td>\n",
       "      <td>France</td>\n",
       "    </tr>\n",
       "  </tbody>\n",
       "</table>\n",
       "<p>541909 rows × 8 columns</p>\n",
       "</div>"
      ],
      "text/plain": [
       "       Kode_Bayar Kode_Barang                               Barang  Jumlah  \\\n",
       "0          536365      85123A   WHITE HANGING HEART T-LIGHT HOLDER     6.0   \n",
       "1          536365       71053                  WHITE METAL LANTERN     6.0   \n",
       "2          536365      84406B       CREAM CUPID HEARTS COAT HANGER     8.0   \n",
       "3          536365      84029G  KNITTED UNION FLAG HOT WATER BOTTLE     6.0   \n",
       "4          536365      84029E       RED WOOLLY HOTTIE WHITE HEART.     6.0   \n",
       "...           ...         ...                                  ...     ...   \n",
       "541904     581587       22613          PACK OF 20 SPACEBOY NAPKINS    12.0   \n",
       "541905     581587       22899         CHILDREN'S APRON DOLLY GIRL      6.0   \n",
       "541906     581587       23254        CHILDRENS CUTLERY DOLLY GIRL      4.0   \n",
       "541907     581587       23255      CHILDRENS CUTLERY CIRCUS PARADE     4.0   \n",
       "541908     581587       22138        BAKING SET 9 PIECE RETROSPOT      3.0   \n",
       "\n",
       "       Tanggal_Transaksi  Harga_Satuan  Kode_Pelanggan          Negara  \n",
       "0         12/1/2010 8:26          2.55         17850.0  United Kingdom  \n",
       "1         12/1/2010 8:26          3.39         17850.0  United Kingdom  \n",
       "2         12/1/2010 8:26          2.75         17850.0  United Kingdom  \n",
       "3         12/1/2010 8:26          3.39         17850.0  United Kingdom  \n",
       "4         12/1/2010 8:26          3.39         17850.0  United Kingdom  \n",
       "...                  ...           ...             ...             ...  \n",
       "541904   12/9/2011 12:50          0.85         12680.0          France  \n",
       "541905   12/9/2011 12:50          2.10         12680.0          France  \n",
       "541906   12/9/2011 12:50          4.15         12680.0          France  \n",
       "541907   12/9/2011 12:50          4.15         12680.0          France  \n",
       "541908   12/9/2011 12:50          4.95         12680.0          France  \n",
       "\n",
       "[541909 rows x 8 columns]"
      ]
     },
     "execution_count": 3,
     "metadata": {},
     "output_type": "execute_result"
    }
   ],
   "source": [
    "df"
   ]
  },
  {
   "cell_type": "code",
   "execution_count": 4,
   "metadata": {
    "ExecuteTime": {
     "end_time": "2021-03-05T07:58:23.462475Z",
     "start_time": "2021-03-05T07:58:23.069488Z"
    },
    "id": "Gx8J2sapyPZk"
   },
   "outputs": [],
   "source": [
    "#checking duplicates\n",
    "df = df.drop_duplicates()"
   ]
  },
  {
   "cell_type": "code",
   "execution_count": 5,
   "metadata": {
    "ExecuteTime": {
     "end_time": "2021-03-05T07:58:23.480389Z",
     "start_time": "2021-03-05T07:58:23.463458Z"
    },
    "id": "2d8q3nx-yU3J"
   },
   "outputs": [
    {
     "data": {
      "text/html": [
       "<div>\n",
       "<style scoped>\n",
       "    .dataframe tbody tr th:only-of-type {\n",
       "        vertical-align: middle;\n",
       "    }\n",
       "\n",
       "    .dataframe tbody tr th {\n",
       "        vertical-align: top;\n",
       "    }\n",
       "\n",
       "    .dataframe thead th {\n",
       "        text-align: right;\n",
       "    }\n",
       "</style>\n",
       "<table border=\"1\" class=\"dataframe\">\n",
       "  <thead>\n",
       "    <tr style=\"text-align: right;\">\n",
       "      <th></th>\n",
       "      <th>Kode_Bayar</th>\n",
       "      <th>Kode_Barang</th>\n",
       "      <th>Barang</th>\n",
       "      <th>Jumlah</th>\n",
       "      <th>Tanggal_Transaksi</th>\n",
       "      <th>Harga_Satuan</th>\n",
       "      <th>Kode_Pelanggan</th>\n",
       "      <th>Negara</th>\n",
       "    </tr>\n",
       "  </thead>\n",
       "  <tbody>\n",
       "    <tr>\n",
       "      <td>0</td>\n",
       "      <td>536365</td>\n",
       "      <td>85123A</td>\n",
       "      <td>WHITE HANGING HEART T-LIGHT HOLDER</td>\n",
       "      <td>6.0</td>\n",
       "      <td>12/1/2010 8:26</td>\n",
       "      <td>2.55</td>\n",
       "      <td>17850.0</td>\n",
       "      <td>United Kingdom</td>\n",
       "    </tr>\n",
       "    <tr>\n",
       "      <td>1</td>\n",
       "      <td>536365</td>\n",
       "      <td>71053</td>\n",
       "      <td>WHITE METAL LANTERN</td>\n",
       "      <td>6.0</td>\n",
       "      <td>12/1/2010 8:26</td>\n",
       "      <td>3.39</td>\n",
       "      <td>17850.0</td>\n",
       "      <td>United Kingdom</td>\n",
       "    </tr>\n",
       "    <tr>\n",
       "      <td>2</td>\n",
       "      <td>536365</td>\n",
       "      <td>84406B</td>\n",
       "      <td>CREAM CUPID HEARTS COAT HANGER</td>\n",
       "      <td>8.0</td>\n",
       "      <td>12/1/2010 8:26</td>\n",
       "      <td>2.75</td>\n",
       "      <td>17850.0</td>\n",
       "      <td>United Kingdom</td>\n",
       "    </tr>\n",
       "    <tr>\n",
       "      <td>3</td>\n",
       "      <td>536365</td>\n",
       "      <td>84029G</td>\n",
       "      <td>KNITTED UNION FLAG HOT WATER BOTTLE</td>\n",
       "      <td>6.0</td>\n",
       "      <td>12/1/2010 8:26</td>\n",
       "      <td>3.39</td>\n",
       "      <td>17850.0</td>\n",
       "      <td>United Kingdom</td>\n",
       "    </tr>\n",
       "    <tr>\n",
       "      <td>4</td>\n",
       "      <td>536365</td>\n",
       "      <td>84029E</td>\n",
       "      <td>RED WOOLLY HOTTIE WHITE HEART.</td>\n",
       "      <td>6.0</td>\n",
       "      <td>12/1/2010 8:26</td>\n",
       "      <td>3.39</td>\n",
       "      <td>17850.0</td>\n",
       "      <td>United Kingdom</td>\n",
       "    </tr>\n",
       "    <tr>\n",
       "      <td>...</td>\n",
       "      <td>...</td>\n",
       "      <td>...</td>\n",
       "      <td>...</td>\n",
       "      <td>...</td>\n",
       "      <td>...</td>\n",
       "      <td>...</td>\n",
       "      <td>...</td>\n",
       "      <td>...</td>\n",
       "    </tr>\n",
       "    <tr>\n",
       "      <td>541904</td>\n",
       "      <td>581587</td>\n",
       "      <td>22613</td>\n",
       "      <td>PACK OF 20 SPACEBOY NAPKINS</td>\n",
       "      <td>12.0</td>\n",
       "      <td>12/9/2011 12:50</td>\n",
       "      <td>0.85</td>\n",
       "      <td>12680.0</td>\n",
       "      <td>France</td>\n",
       "    </tr>\n",
       "    <tr>\n",
       "      <td>541905</td>\n",
       "      <td>581587</td>\n",
       "      <td>22899</td>\n",
       "      <td>CHILDREN'S APRON DOLLY GIRL</td>\n",
       "      <td>6.0</td>\n",
       "      <td>12/9/2011 12:50</td>\n",
       "      <td>2.10</td>\n",
       "      <td>12680.0</td>\n",
       "      <td>France</td>\n",
       "    </tr>\n",
       "    <tr>\n",
       "      <td>541906</td>\n",
       "      <td>581587</td>\n",
       "      <td>23254</td>\n",
       "      <td>CHILDRENS CUTLERY DOLLY GIRL</td>\n",
       "      <td>4.0</td>\n",
       "      <td>12/9/2011 12:50</td>\n",
       "      <td>4.15</td>\n",
       "      <td>12680.0</td>\n",
       "      <td>France</td>\n",
       "    </tr>\n",
       "    <tr>\n",
       "      <td>541907</td>\n",
       "      <td>581587</td>\n",
       "      <td>23255</td>\n",
       "      <td>CHILDRENS CUTLERY CIRCUS PARADE</td>\n",
       "      <td>4.0</td>\n",
       "      <td>12/9/2011 12:50</td>\n",
       "      <td>4.15</td>\n",
       "      <td>12680.0</td>\n",
       "      <td>France</td>\n",
       "    </tr>\n",
       "    <tr>\n",
       "      <td>541908</td>\n",
       "      <td>581587</td>\n",
       "      <td>22138</td>\n",
       "      <td>BAKING SET 9 PIECE RETROSPOT</td>\n",
       "      <td>3.0</td>\n",
       "      <td>12/9/2011 12:50</td>\n",
       "      <td>4.95</td>\n",
       "      <td>12680.0</td>\n",
       "      <td>France</td>\n",
       "    </tr>\n",
       "  </tbody>\n",
       "</table>\n",
       "<p>536641 rows × 8 columns</p>\n",
       "</div>"
      ],
      "text/plain": [
       "       Kode_Bayar Kode_Barang                               Barang  Jumlah  \\\n",
       "0          536365      85123A   WHITE HANGING HEART T-LIGHT HOLDER     6.0   \n",
       "1          536365       71053                  WHITE METAL LANTERN     6.0   \n",
       "2          536365      84406B       CREAM CUPID HEARTS COAT HANGER     8.0   \n",
       "3          536365      84029G  KNITTED UNION FLAG HOT WATER BOTTLE     6.0   \n",
       "4          536365      84029E       RED WOOLLY HOTTIE WHITE HEART.     6.0   \n",
       "...           ...         ...                                  ...     ...   \n",
       "541904     581587       22613          PACK OF 20 SPACEBOY NAPKINS    12.0   \n",
       "541905     581587       22899         CHILDREN'S APRON DOLLY GIRL      6.0   \n",
       "541906     581587       23254        CHILDRENS CUTLERY DOLLY GIRL      4.0   \n",
       "541907     581587       23255      CHILDRENS CUTLERY CIRCUS PARADE     4.0   \n",
       "541908     581587       22138        BAKING SET 9 PIECE RETROSPOT      3.0   \n",
       "\n",
       "       Tanggal_Transaksi  Harga_Satuan  Kode_Pelanggan          Negara  \n",
       "0         12/1/2010 8:26          2.55         17850.0  United Kingdom  \n",
       "1         12/1/2010 8:26          3.39         17850.0  United Kingdom  \n",
       "2         12/1/2010 8:26          2.75         17850.0  United Kingdom  \n",
       "3         12/1/2010 8:26          3.39         17850.0  United Kingdom  \n",
       "4         12/1/2010 8:26          3.39         17850.0  United Kingdom  \n",
       "...                  ...           ...             ...             ...  \n",
       "541904   12/9/2011 12:50          0.85         12680.0          France  \n",
       "541905   12/9/2011 12:50          2.10         12680.0          France  \n",
       "541906   12/9/2011 12:50          4.15         12680.0          France  \n",
       "541907   12/9/2011 12:50          4.15         12680.0          France  \n",
       "541908   12/9/2011 12:50          4.95         12680.0          France  \n",
       "\n",
       "[536641 rows x 8 columns]"
      ]
     },
     "execution_count": 5,
     "metadata": {},
     "output_type": "execute_result"
    }
   ],
   "source": [
    "df"
   ]
  },
  {
   "cell_type": "code",
   "execution_count": 6,
   "metadata": {
    "ExecuteTime": {
     "end_time": "2021-03-05T07:58:23.575135Z",
     "start_time": "2021-03-05T07:58:23.481386Z"
    },
    "id": "PM7w5Lm9yY1J"
   },
   "outputs": [
    {
     "name": "stdout",
     "output_type": "stream",
     "text": [
      "Kode_Bayar                0\n",
      "Kode_Barang            5989\n",
      "Barang                 7443\n",
      "Jumlah                 5989\n",
      "Tanggal_Transaksi      5989\n",
      "Harga_Satuan           5989\n",
      "Kode_Pelanggan       138638\n",
      "Negara                 5989\n",
      "dtype: int64\n"
     ]
    }
   ],
   "source": [
    "#check missing values\n",
    "print(df.isnull().sum())"
   ]
  },
  {
   "cell_type": "code",
   "execution_count": 7,
   "metadata": {
    "ExecuteTime": {
     "end_time": "2021-03-05T07:58:23.635496Z",
     "start_time": "2021-03-05T07:58:23.576133Z"
    },
    "id": "MGuoruwj3PID"
   },
   "outputs": [],
   "source": [
    "df= df.dropna(subset=['Kode_Barang','Kode_Pelanggan'])"
   ]
  },
  {
   "cell_type": "code",
   "execution_count": 8,
   "metadata": {
    "ExecuteTime": {
     "end_time": "2021-03-05T07:58:23.652435Z",
     "start_time": "2021-03-05T07:58:23.637476Z"
    },
    "id": "Mobgumpm3eug"
   },
   "outputs": [
    {
     "data": {
      "text/html": [
       "<div>\n",
       "<style scoped>\n",
       "    .dataframe tbody tr th:only-of-type {\n",
       "        vertical-align: middle;\n",
       "    }\n",
       "\n",
       "    .dataframe tbody tr th {\n",
       "        vertical-align: top;\n",
       "    }\n",
       "\n",
       "    .dataframe thead th {\n",
       "        text-align: right;\n",
       "    }\n",
       "</style>\n",
       "<table border=\"1\" class=\"dataframe\">\n",
       "  <thead>\n",
       "    <tr style=\"text-align: right;\">\n",
       "      <th></th>\n",
       "      <th>Kode_Bayar</th>\n",
       "      <th>Kode_Barang</th>\n",
       "      <th>Barang</th>\n",
       "      <th>Jumlah</th>\n",
       "      <th>Tanggal_Transaksi</th>\n",
       "      <th>Harga_Satuan</th>\n",
       "      <th>Kode_Pelanggan</th>\n",
       "      <th>Negara</th>\n",
       "    </tr>\n",
       "  </thead>\n",
       "  <tbody>\n",
       "    <tr>\n",
       "      <td>0</td>\n",
       "      <td>536365</td>\n",
       "      <td>85123A</td>\n",
       "      <td>WHITE HANGING HEART T-LIGHT HOLDER</td>\n",
       "      <td>6.0</td>\n",
       "      <td>12/1/2010 8:26</td>\n",
       "      <td>2.55</td>\n",
       "      <td>17850.0</td>\n",
       "      <td>United Kingdom</td>\n",
       "    </tr>\n",
       "    <tr>\n",
       "      <td>1</td>\n",
       "      <td>536365</td>\n",
       "      <td>71053</td>\n",
       "      <td>WHITE METAL LANTERN</td>\n",
       "      <td>6.0</td>\n",
       "      <td>12/1/2010 8:26</td>\n",
       "      <td>3.39</td>\n",
       "      <td>17850.0</td>\n",
       "      <td>United Kingdom</td>\n",
       "    </tr>\n",
       "    <tr>\n",
       "      <td>2</td>\n",
       "      <td>536365</td>\n",
       "      <td>84406B</td>\n",
       "      <td>CREAM CUPID HEARTS COAT HANGER</td>\n",
       "      <td>8.0</td>\n",
       "      <td>12/1/2010 8:26</td>\n",
       "      <td>2.75</td>\n",
       "      <td>17850.0</td>\n",
       "      <td>United Kingdom</td>\n",
       "    </tr>\n",
       "    <tr>\n",
       "      <td>3</td>\n",
       "      <td>536365</td>\n",
       "      <td>84029G</td>\n",
       "      <td>KNITTED UNION FLAG HOT WATER BOTTLE</td>\n",
       "      <td>6.0</td>\n",
       "      <td>12/1/2010 8:26</td>\n",
       "      <td>3.39</td>\n",
       "      <td>17850.0</td>\n",
       "      <td>United Kingdom</td>\n",
       "    </tr>\n",
       "    <tr>\n",
       "      <td>4</td>\n",
       "      <td>536365</td>\n",
       "      <td>84029E</td>\n",
       "      <td>RED WOOLLY HOTTIE WHITE HEART.</td>\n",
       "      <td>6.0</td>\n",
       "      <td>12/1/2010 8:26</td>\n",
       "      <td>3.39</td>\n",
       "      <td>17850.0</td>\n",
       "      <td>United Kingdom</td>\n",
       "    </tr>\n",
       "    <tr>\n",
       "      <td>...</td>\n",
       "      <td>...</td>\n",
       "      <td>...</td>\n",
       "      <td>...</td>\n",
       "      <td>...</td>\n",
       "      <td>...</td>\n",
       "      <td>...</td>\n",
       "      <td>...</td>\n",
       "      <td>...</td>\n",
       "    </tr>\n",
       "    <tr>\n",
       "      <td>541904</td>\n",
       "      <td>581587</td>\n",
       "      <td>22613</td>\n",
       "      <td>PACK OF 20 SPACEBOY NAPKINS</td>\n",
       "      <td>12.0</td>\n",
       "      <td>12/9/2011 12:50</td>\n",
       "      <td>0.85</td>\n",
       "      <td>12680.0</td>\n",
       "      <td>France</td>\n",
       "    </tr>\n",
       "    <tr>\n",
       "      <td>541905</td>\n",
       "      <td>581587</td>\n",
       "      <td>22899</td>\n",
       "      <td>CHILDREN'S APRON DOLLY GIRL</td>\n",
       "      <td>6.0</td>\n",
       "      <td>12/9/2011 12:50</td>\n",
       "      <td>2.10</td>\n",
       "      <td>12680.0</td>\n",
       "      <td>France</td>\n",
       "    </tr>\n",
       "    <tr>\n",
       "      <td>541906</td>\n",
       "      <td>581587</td>\n",
       "      <td>23254</td>\n",
       "      <td>CHILDRENS CUTLERY DOLLY GIRL</td>\n",
       "      <td>4.0</td>\n",
       "      <td>12/9/2011 12:50</td>\n",
       "      <td>4.15</td>\n",
       "      <td>12680.0</td>\n",
       "      <td>France</td>\n",
       "    </tr>\n",
       "    <tr>\n",
       "      <td>541907</td>\n",
       "      <td>581587</td>\n",
       "      <td>23255</td>\n",
       "      <td>CHILDRENS CUTLERY CIRCUS PARADE</td>\n",
       "      <td>4.0</td>\n",
       "      <td>12/9/2011 12:50</td>\n",
       "      <td>4.15</td>\n",
       "      <td>12680.0</td>\n",
       "      <td>France</td>\n",
       "    </tr>\n",
       "    <tr>\n",
       "      <td>541908</td>\n",
       "      <td>581587</td>\n",
       "      <td>22138</td>\n",
       "      <td>BAKING SET 9 PIECE RETROSPOT</td>\n",
       "      <td>3.0</td>\n",
       "      <td>12/9/2011 12:50</td>\n",
       "      <td>4.95</td>\n",
       "      <td>12680.0</td>\n",
       "      <td>France</td>\n",
       "    </tr>\n",
       "  </tbody>\n",
       "</table>\n",
       "<p>398003 rows × 8 columns</p>\n",
       "</div>"
      ],
      "text/plain": [
       "       Kode_Bayar Kode_Barang                               Barang  Jumlah  \\\n",
       "0          536365      85123A   WHITE HANGING HEART T-LIGHT HOLDER     6.0   \n",
       "1          536365       71053                  WHITE METAL LANTERN     6.0   \n",
       "2          536365      84406B       CREAM CUPID HEARTS COAT HANGER     8.0   \n",
       "3          536365      84029G  KNITTED UNION FLAG HOT WATER BOTTLE     6.0   \n",
       "4          536365      84029E       RED WOOLLY HOTTIE WHITE HEART.     6.0   \n",
       "...           ...         ...                                  ...     ...   \n",
       "541904     581587       22613          PACK OF 20 SPACEBOY NAPKINS    12.0   \n",
       "541905     581587       22899         CHILDREN'S APRON DOLLY GIRL      6.0   \n",
       "541906     581587       23254        CHILDRENS CUTLERY DOLLY GIRL      4.0   \n",
       "541907     581587       23255      CHILDRENS CUTLERY CIRCUS PARADE     4.0   \n",
       "541908     581587       22138        BAKING SET 9 PIECE RETROSPOT      3.0   \n",
       "\n",
       "       Tanggal_Transaksi  Harga_Satuan  Kode_Pelanggan          Negara  \n",
       "0         12/1/2010 8:26          2.55         17850.0  United Kingdom  \n",
       "1         12/1/2010 8:26          3.39         17850.0  United Kingdom  \n",
       "2         12/1/2010 8:26          2.75         17850.0  United Kingdom  \n",
       "3         12/1/2010 8:26          3.39         17850.0  United Kingdom  \n",
       "4         12/1/2010 8:26          3.39         17850.0  United Kingdom  \n",
       "...                  ...           ...             ...             ...  \n",
       "541904   12/9/2011 12:50          0.85         12680.0          France  \n",
       "541905   12/9/2011 12:50          2.10         12680.0          France  \n",
       "541906   12/9/2011 12:50          4.15         12680.0          France  \n",
       "541907   12/9/2011 12:50          4.15         12680.0          France  \n",
       "541908   12/9/2011 12:50          4.95         12680.0          France  \n",
       "\n",
       "[398003 rows x 8 columns]"
      ]
     },
     "execution_count": 8,
     "metadata": {},
     "output_type": "execute_result"
    }
   ],
   "source": [
    "df"
   ]
  },
  {
   "cell_type": "code",
   "execution_count": 9,
   "metadata": {
    "ExecuteTime": {
     "end_time": "2021-03-05T07:58:23.722668Z",
     "start_time": "2021-03-05T07:58:23.654430Z"
    },
    "id": "sahYgD1u3gQK"
   },
   "outputs": [
    {
     "name": "stdout",
     "output_type": "stream",
     "text": [
      "Kode_Bayar           0\n",
      "Kode_Barang          0\n",
      "Barang               0\n",
      "Jumlah               0\n",
      "Tanggal_Transaksi    0\n",
      "Harga_Satuan         0\n",
      "Kode_Pelanggan       0\n",
      "Negara               0\n",
      "dtype: int64\n"
     ]
    }
   ],
   "source": [
    "#check missing values\n",
    "print(df.isnull().sum())"
   ]
  },
  {
   "cell_type": "code",
   "execution_count": 10,
   "metadata": {
    "ExecuteTime": {
     "end_time": "2021-03-05T07:58:23.731659Z",
     "start_time": "2021-03-05T07:58:23.723652Z"
    },
    "id": "3mAU1bxo3zsB"
   },
   "outputs": [],
   "source": [
    "from mlxtend.frequent_patterns import apriori\n",
    "from mlxtend.frequent_patterns import association_rules"
   ]
  },
  {
   "cell_type": "code",
   "execution_count": 11,
   "metadata": {
    "ExecuteTime": {
     "end_time": "2021-03-05T07:58:23.970425Z",
     "start_time": "2021-03-05T07:58:23.732628Z"
    },
    "id": "30jnaYn48fRr"
   },
   "outputs": [
    {
     "data": {
      "text/plain": [
       "<matplotlib.axes._subplots.AxesSubplot at 0x2527f80c388>"
      ]
     },
     "execution_count": 11,
     "metadata": {},
     "output_type": "execute_result"
    },
    {
     "data": {
      "image/png": "[encoded data removed]",
      "text/plain": [
       "<Figure size 432x288 with 1 Axes>"
      ]
     },
     "metadata": {
      "needs_background": "light"
     },
     "output_type": "display_data"
    }
   ],
   "source": [
    "#What items customers buy the most and are there any items we should ignore?\n",
    "sns.boxplot(df['Jumlah'])"
   ]
  },
  {
   "cell_type": "code",
   "execution_count": 12,
   "metadata": {
    "ExecuteTime": {
     "end_time": "2021-03-05T07:58:23.981395Z",
     "start_time": "2021-03-05T07:58:23.971400Z"
    },
    "id": "BIvO6xCBB0nU"
   },
   "outputs": [],
   "source": [
    "Q1, Q3 = np.percentile(df['Jumlah'], [25 ,75])\n",
    "IQR = Q3 - Q1\n",
    "lower_bound = Q1 - 1.5*IQR\n",
    "upper_bound = Q3 + 1.5*IQR"
   ]
  },
  {
   "cell_type": "code",
   "execution_count": 13,
   "metadata": {
    "ExecuteTime": {
     "end_time": "2021-03-05T07:58:23.998348Z",
     "start_time": "2021-03-05T07:58:23.982389Z"
    },
    "id": "bWZydxLwCI8Y"
   },
   "outputs": [
    {
     "data": {
      "text/html": [
       "<div>\n",
       "<style scoped>\n",
       "    .dataframe tbody tr th:only-of-type {\n",
       "        vertical-align: middle;\n",
       "    }\n",
       "\n",
       "    .dataframe tbody tr th {\n",
       "        vertical-align: top;\n",
       "    }\n",
       "\n",
       "    .dataframe thead th {\n",
       "        text-align: right;\n",
       "    }\n",
       "</style>\n",
       "<table border=\"1\" class=\"dataframe\">\n",
       "  <thead>\n",
       "    <tr style=\"text-align: right;\">\n",
       "      <th></th>\n",
       "      <th>Kode_Bayar</th>\n",
       "      <th>Kode_Barang</th>\n",
       "      <th>Barang</th>\n",
       "      <th>Jumlah</th>\n",
       "      <th>Tanggal_Transaksi</th>\n",
       "      <th>Harga_Satuan</th>\n",
       "      <th>Kode_Pelanggan</th>\n",
       "      <th>Negara</th>\n",
       "    </tr>\n",
       "  </thead>\n",
       "  <tbody>\n",
       "    <tr>\n",
       "      <td>236</td>\n",
       "      <td>C536391</td>\n",
       "      <td>21984</td>\n",
       "      <td>PACK OF 12 PINK PAISLEY TISSUES</td>\n",
       "      <td>-24.0</td>\n",
       "      <td>12/1/2010 10:24</td>\n",
       "      <td>0.29</td>\n",
       "      <td>17548.0</td>\n",
       "      <td>United Kingdom</td>\n",
       "    </tr>\n",
       "    <tr>\n",
       "      <td>237</td>\n",
       "      <td>C536391</td>\n",
       "      <td>21983</td>\n",
       "      <td>PACK OF 12 BLUE PAISLEY TISSUES</td>\n",
       "      <td>-24.0</td>\n",
       "      <td>12/1/2010 10:24</td>\n",
       "      <td>0.29</td>\n",
       "      <td>17548.0</td>\n",
       "      <td>United Kingdom</td>\n",
       "    </tr>\n",
       "    <tr>\n",
       "      <td>238</td>\n",
       "      <td>C536391</td>\n",
       "      <td>21980</td>\n",
       "      <td>PACK OF 12 RED RETROSPOT TISSUES</td>\n",
       "      <td>-24.0</td>\n",
       "      <td>12/1/2010 10:24</td>\n",
       "      <td>0.29</td>\n",
       "      <td>17548.0</td>\n",
       "      <td>United Kingdom</td>\n",
       "    </tr>\n",
       "    <tr>\n",
       "      <td>241</td>\n",
       "      <td>C536391</td>\n",
       "      <td>22553</td>\n",
       "      <td>PLASTERS IN TIN SKULLS</td>\n",
       "      <td>-24.0</td>\n",
       "      <td>12/1/2010 10:24</td>\n",
       "      <td>1.65</td>\n",
       "      <td>17548.0</td>\n",
       "      <td>United Kingdom</td>\n",
       "    </tr>\n",
       "    <tr>\n",
       "      <td>4287</td>\n",
       "      <td>C536757</td>\n",
       "      <td>84347</td>\n",
       "      <td>ROTATING SILVER ANGELS T-LIGHT HLDR</td>\n",
       "      <td>-9360.0</td>\n",
       "      <td>12/2/2010 14:23</td>\n",
       "      <td>0.03</td>\n",
       "      <td>15838.0</td>\n",
       "      <td>United Kingdom</td>\n",
       "    </tr>\n",
       "    <tr>\n",
       "      <td>...</td>\n",
       "      <td>...</td>\n",
       "      <td>...</td>\n",
       "      <td>...</td>\n",
       "      <td>...</td>\n",
       "      <td>...</td>\n",
       "      <td>...</td>\n",
       "      <td>...</td>\n",
       "      <td>...</td>\n",
       "    </tr>\n",
       "    <tr>\n",
       "      <td>536922</td>\n",
       "      <td>C581229</td>\n",
       "      <td>23158</td>\n",
       "      <td>SET OF 5 LUCKY CAT MAGNETS</td>\n",
       "      <td>-36.0</td>\n",
       "      <td>12/8/2011 10:14</td>\n",
       "      <td>2.08</td>\n",
       "      <td>12558.0</td>\n",
       "      <td>USA</td>\n",
       "    </tr>\n",
       "    <tr>\n",
       "      <td>537614</td>\n",
       "      <td>C581330</td>\n",
       "      <td>22959</td>\n",
       "      <td>WRAP CHRISTMAS VILLAGE</td>\n",
       "      <td>-25.0</td>\n",
       "      <td>12/8/2011 11:57</td>\n",
       "      <td>0.42</td>\n",
       "      <td>15877.0</td>\n",
       "      <td>United Kingdom</td>\n",
       "    </tr>\n",
       "    <tr>\n",
       "      <td>537615</td>\n",
       "      <td>C581330</td>\n",
       "      <td>16169E</td>\n",
       "      <td>WRAP 50'S  CHRISTMAS</td>\n",
       "      <td>-100.0</td>\n",
       "      <td>12/8/2011 11:57</td>\n",
       "      <td>0.42</td>\n",
       "      <td>15877.0</td>\n",
       "      <td>United Kingdom</td>\n",
       "    </tr>\n",
       "    <tr>\n",
       "      <td>540078</td>\n",
       "      <td>C581462</td>\n",
       "      <td>16219</td>\n",
       "      <td>HOUSE SHAPE PENCIL SHARPENER</td>\n",
       "      <td>-48.0</td>\n",
       "      <td>12/8/2011 18:51</td>\n",
       "      <td>0.06</td>\n",
       "      <td>12985.0</td>\n",
       "      <td>United Kingdom</td>\n",
       "    </tr>\n",
       "    <tr>\n",
       "      <td>540079</td>\n",
       "      <td>C581462</td>\n",
       "      <td>21642</td>\n",
       "      <td>ASSORTED TUTTI FRUTTI PEN</td>\n",
       "      <td>-72.0</td>\n",
       "      <td>12/8/2011 18:51</td>\n",
       "      <td>0.29</td>\n",
       "      <td>12985.0</td>\n",
       "      <td>United Kingdom</td>\n",
       "    </tr>\n",
       "  </tbody>\n",
       "</table>\n",
       "<p>1011 rows × 8 columns</p>\n",
       "</div>"
      ],
      "text/plain": [
       "       Kode_Bayar Kode_Barang                               Barang  Jumlah  \\\n",
       "236       C536391       21984     PACK OF 12 PINK PAISLEY TISSUES    -24.0   \n",
       "237       C536391       21983     PACK OF 12 BLUE PAISLEY TISSUES    -24.0   \n",
       "238       C536391       21980    PACK OF 12 RED RETROSPOT TISSUES    -24.0   \n",
       "241       C536391       22553               PLASTERS IN TIN SKULLS   -24.0   \n",
       "4287      C536757       84347  ROTATING SILVER ANGELS T-LIGHT HLDR -9360.0   \n",
       "...           ...         ...                                  ...     ...   \n",
       "536922    C581229       23158          SET OF 5 LUCKY CAT MAGNETS    -36.0   \n",
       "537614    C581330       22959               WRAP CHRISTMAS VILLAGE   -25.0   \n",
       "537615    C581330      16169E                 WRAP 50'S  CHRISTMAS  -100.0   \n",
       "540078    C581462       16219         HOUSE SHAPE PENCIL SHARPENER   -48.0   \n",
       "540079    C581462       21642            ASSORTED TUTTI FRUTTI PEN   -72.0   \n",
       "\n",
       "       Tanggal_Transaksi  Harga_Satuan  Kode_Pelanggan          Negara  \n",
       "236      12/1/2010 10:24          0.29         17548.0  United Kingdom  \n",
       "237      12/1/2010 10:24          0.29         17548.0  United Kingdom  \n",
       "238      12/1/2010 10:24          0.29         17548.0  United Kingdom  \n",
       "241      12/1/2010 10:24          1.65         17548.0  United Kingdom  \n",
       "4287     12/2/2010 14:23          0.03         15838.0  United Kingdom  \n",
       "...                  ...           ...             ...             ...  \n",
       "536922   12/8/2011 10:14          2.08         12558.0             USA  \n",
       "537614   12/8/2011 11:57          0.42         15877.0  United Kingdom  \n",
       "537615   12/8/2011 11:57          0.42         15877.0  United Kingdom  \n",
       "540078   12/8/2011 18:51          0.06         12985.0  United Kingdom  \n",
       "540079   12/8/2011 18:51          0.29         12985.0  United Kingdom  \n",
       "\n",
       "[1011 rows x 8 columns]"
      ]
     },
     "execution_count": 13,
     "metadata": {},
     "output_type": "execute_result"
    }
   ],
   "source": [
    "outliers_low = df[df['Jumlah'] < lower_bound]\n",
    "outliers_low"
   ]
  },
  {
   "cell_type": "code",
   "execution_count": 14,
   "metadata": {
    "ExecuteTime": {
     "end_time": "2021-03-05T07:58:24.019295Z",
     "start_time": "2021-03-05T07:58:23.999325Z"
    },
    "id": "WVT8Wfs7CSQ2"
   },
   "outputs": [
    {
     "data": {
      "text/html": [
       "<div>\n",
       "<style scoped>\n",
       "    .dataframe tbody tr th:only-of-type {\n",
       "        vertical-align: middle;\n",
       "    }\n",
       "\n",
       "    .dataframe tbody tr th {\n",
       "        vertical-align: top;\n",
       "    }\n",
       "\n",
       "    .dataframe thead th {\n",
       "        text-align: right;\n",
       "    }\n",
       "</style>\n",
       "<table border=\"1\" class=\"dataframe\">\n",
       "  <thead>\n",
       "    <tr style=\"text-align: right;\">\n",
       "      <th></th>\n",
       "      <th>Kode_Bayar</th>\n",
       "      <th>Kode_Barang</th>\n",
       "      <th>Barang</th>\n",
       "      <th>Jumlah</th>\n",
       "      <th>Tanggal_Transaksi</th>\n",
       "      <th>Harga_Satuan</th>\n",
       "      <th>Kode_Pelanggan</th>\n",
       "      <th>Negara</th>\n",
       "    </tr>\n",
       "  </thead>\n",
       "  <tbody>\n",
       "    <tr>\n",
       "      <td>9</td>\n",
       "      <td>536367</td>\n",
       "      <td>84879</td>\n",
       "      <td>ASSORTED COLOUR BIRD ORNAMENT</td>\n",
       "      <td>32.0</td>\n",
       "      <td>12/1/2010 8:34</td>\n",
       "      <td>1.69</td>\n",
       "      <td>13047.0</td>\n",
       "      <td>United Kingdom</td>\n",
       "    </tr>\n",
       "    <tr>\n",
       "      <td>31</td>\n",
       "      <td>536370</td>\n",
       "      <td>10002</td>\n",
       "      <td>INFLATABLE POLITICAL GLOBE</td>\n",
       "      <td>48.0</td>\n",
       "      <td>12/1/2010 8:45</td>\n",
       "      <td>0.85</td>\n",
       "      <td>12583.0</td>\n",
       "      <td>France</td>\n",
       "    </tr>\n",
       "    <tr>\n",
       "      <td>44</td>\n",
       "      <td>536370</td>\n",
       "      <td>22492</td>\n",
       "      <td>MINI PAINT SET VINTAGE</td>\n",
       "      <td>36.0</td>\n",
       "      <td>12/1/2010 8:45</td>\n",
       "      <td>0.65</td>\n",
       "      <td>12583.0</td>\n",
       "      <td>France</td>\n",
       "    </tr>\n",
       "    <tr>\n",
       "      <td>46</td>\n",
       "      <td>536371</td>\n",
       "      <td>22086</td>\n",
       "      <td>PAPER CHAIN KIT 50'S CHRISTMAS</td>\n",
       "      <td>80.0</td>\n",
       "      <td>12/1/2010 9:00</td>\n",
       "      <td>2.55</td>\n",
       "      <td>13748.0</td>\n",
       "      <td>United Kingdom</td>\n",
       "    </tr>\n",
       "    <tr>\n",
       "      <td>65</td>\n",
       "      <td>536374</td>\n",
       "      <td>21258</td>\n",
       "      <td>VICTORIAN SEWING BOX LARGE</td>\n",
       "      <td>32.0</td>\n",
       "      <td>12/1/2010 9:09</td>\n",
       "      <td>10.95</td>\n",
       "      <td>15100.0</td>\n",
       "      <td>United Kingdom</td>\n",
       "    </tr>\n",
       "    <tr>\n",
       "      <td>82</td>\n",
       "      <td>536376</td>\n",
       "      <td>22114</td>\n",
       "      <td>HOT WATER BOTTLE TEA AND SYMPATHY</td>\n",
       "      <td>48.0</td>\n",
       "      <td>12/1/2010 9:32</td>\n",
       "      <td>3.45</td>\n",
       "      <td>15291.0</td>\n",
       "      <td>United Kingdom</td>\n",
       "    </tr>\n",
       "    <tr>\n",
       "      <td>83</td>\n",
       "      <td>536376</td>\n",
       "      <td>21733</td>\n",
       "      <td>RED HANGING HEART T-LIGHT HOLDER</td>\n",
       "      <td>64.0</td>\n",
       "      <td>12/1/2010 9:32</td>\n",
       "      <td>2.55</td>\n",
       "      <td>15291.0</td>\n",
       "      <td>United Kingdom</td>\n",
       "    </tr>\n",
       "    <tr>\n",
       "      <td>96</td>\n",
       "      <td>536378</td>\n",
       "      <td>21212</td>\n",
       "      <td>PACK OF 72 RETROSPOT CAKE CASES</td>\n",
       "      <td>120.0</td>\n",
       "      <td>12/1/2010 9:37</td>\n",
       "      <td>0.42</td>\n",
       "      <td>14688.0</td>\n",
       "      <td>United Kingdom</td>\n",
       "    </tr>\n",
       "    <tr>\n",
       "      <td>101</td>\n",
       "      <td>536378</td>\n",
       "      <td>85183B</td>\n",
       "      <td>CHARLIE &amp; LOLA WASTEPAPER BIN FLORA</td>\n",
       "      <td>48.0</td>\n",
       "      <td>12/1/2010 9:37</td>\n",
       "      <td>1.25</td>\n",
       "      <td>14688.0</td>\n",
       "      <td>United Kingdom</td>\n",
       "    </tr>\n",
       "    <tr>\n",
       "      <td>102</td>\n",
       "      <td>536378</td>\n",
       "      <td>85071B</td>\n",
       "      <td>RED CHARLIE+LOLA PERSONAL DOORSIGN</td>\n",
       "      <td>96.0</td>\n",
       "      <td>12/1/2010 9:37</td>\n",
       "      <td>0.38</td>\n",
       "      <td>14688.0</td>\n",
       "      <td>United Kingdom</td>\n",
       "    </tr>\n",
       "    <tr>\n",
       "      <td>139</td>\n",
       "      <td>536381</td>\n",
       "      <td>22719</td>\n",
       "      <td>GUMBALL MONOCHROME COAT RACK</td>\n",
       "      <td>36.0</td>\n",
       "      <td>12/1/2010 9:41</td>\n",
       "      <td>1.06</td>\n",
       "      <td>15311.0</td>\n",
       "      <td>United Kingdom</td>\n",
       "    </tr>\n",
       "    <tr>\n",
       "      <td>147</td>\n",
       "      <td>536382</td>\n",
       "      <td>22381</td>\n",
       "      <td>TOY TIDY PINK POLKADOT</td>\n",
       "      <td>50.0</td>\n",
       "      <td>12/1/2010 9:45</td>\n",
       "      <td>1.85</td>\n",
       "      <td>16098.0</td>\n",
       "      <td>United Kingdom</td>\n",
       "    </tr>\n",
       "    <tr>\n",
       "      <td>156</td>\n",
       "      <td>536384</td>\n",
       "      <td>84755</td>\n",
       "      <td>COLOUR GLASS T-LIGHT HOLDER HANGING</td>\n",
       "      <td>48.0</td>\n",
       "      <td>12/1/2010 9:53</td>\n",
       "      <td>0.65</td>\n",
       "      <td>18074.0</td>\n",
       "      <td>United Kingdom</td>\n",
       "    </tr>\n",
       "    <tr>\n",
       "      <td>160</td>\n",
       "      <td>536384</td>\n",
       "      <td>22469</td>\n",
       "      <td>HEART OF WICKER SMALL</td>\n",
       "      <td>40.0</td>\n",
       "      <td>12/1/2010 9:53</td>\n",
       "      <td>1.45</td>\n",
       "      <td>18074.0</td>\n",
       "      <td>United Kingdom</td>\n",
       "    </tr>\n",
       "    <tr>\n",
       "      <td>161</td>\n",
       "      <td>536384</td>\n",
       "      <td>22470</td>\n",
       "      <td>HEART OF WICKER LARGE</td>\n",
       "      <td>40.0</td>\n",
       "      <td>12/1/2010 9:53</td>\n",
       "      <td>2.55</td>\n",
       "      <td>18074.0</td>\n",
       "      <td>United Kingdom</td>\n",
       "    </tr>\n",
       "    <tr>\n",
       "      <td>175</td>\n",
       "      <td>536386</td>\n",
       "      <td>84880</td>\n",
       "      <td>WHITE WIRE EGG HOLDER</td>\n",
       "      <td>36.0</td>\n",
       "      <td>12/1/2010 9:57</td>\n",
       "      <td>4.95</td>\n",
       "      <td>16029.0</td>\n",
       "      <td>United Kingdom</td>\n",
       "    </tr>\n",
       "    <tr>\n",
       "      <td>176</td>\n",
       "      <td>536386</td>\n",
       "      <td>85099C</td>\n",
       "      <td>JUMBO  BAG BAROQUE BLACK WHITE</td>\n",
       "      <td>100.0</td>\n",
       "      <td>12/1/2010 9:57</td>\n",
       "      <td>1.65</td>\n",
       "      <td>16029.0</td>\n",
       "      <td>United Kingdom</td>\n",
       "    </tr>\n",
       "    <tr>\n",
       "      <td>177</td>\n",
       "      <td>536386</td>\n",
       "      <td>85099B</td>\n",
       "      <td>JUMBO BAG RED RETROSPOT</td>\n",
       "      <td>100.0</td>\n",
       "      <td>12/1/2010 9:57</td>\n",
       "      <td>1.65</td>\n",
       "      <td>16029.0</td>\n",
       "      <td>United Kingdom</td>\n",
       "    </tr>\n",
       "    <tr>\n",
       "      <td>178</td>\n",
       "      <td>536387</td>\n",
       "      <td>79321</td>\n",
       "      <td>CHILLI LIGHTS</td>\n",
       "      <td>192.0</td>\n",
       "      <td>12/1/2010 9:58</td>\n",
       "      <td>3.82</td>\n",
       "      <td>16029.0</td>\n",
       "      <td>United Kingdom</td>\n",
       "    </tr>\n",
       "    <tr>\n",
       "      <td>179</td>\n",
       "      <td>536387</td>\n",
       "      <td>22780</td>\n",
       "      <td>LIGHT GARLAND BUTTERFILES PINK</td>\n",
       "      <td>192.0</td>\n",
       "      <td>12/1/2010 9:58</td>\n",
       "      <td>3.37</td>\n",
       "      <td>16029.0</td>\n",
       "      <td>United Kingdom</td>\n",
       "    </tr>\n",
       "  </tbody>\n",
       "</table>\n",
       "</div>"
      ],
      "text/plain": [
       "    Kode_Bayar Kode_Barang                               Barang  Jumlah  \\\n",
       "9       536367       84879        ASSORTED COLOUR BIRD ORNAMENT    32.0   \n",
       "31      536370       10002          INFLATABLE POLITICAL GLOBE     48.0   \n",
       "44      536370       22492              MINI PAINT SET VINTAGE     36.0   \n",
       "46      536371       22086      PAPER CHAIN KIT 50'S CHRISTMAS     80.0   \n",
       "65      536374       21258           VICTORIAN SEWING BOX LARGE    32.0   \n",
       "82      536376       22114    HOT WATER BOTTLE TEA AND SYMPATHY    48.0   \n",
       "83      536376       21733     RED HANGING HEART T-LIGHT HOLDER    64.0   \n",
       "96      536378       21212      PACK OF 72 RETROSPOT CAKE CASES   120.0   \n",
       "101     536378      85183B  CHARLIE & LOLA WASTEPAPER BIN FLORA    48.0   \n",
       "102     536378      85071B   RED CHARLIE+LOLA PERSONAL DOORSIGN    96.0   \n",
       "139     536381       22719         GUMBALL MONOCHROME COAT RACK    36.0   \n",
       "147     536382       22381               TOY TIDY PINK POLKADOT    50.0   \n",
       "156     536384       84755  COLOUR GLASS T-LIGHT HOLDER HANGING    48.0   \n",
       "160     536384       22469                HEART OF WICKER SMALL    40.0   \n",
       "161     536384       22470                HEART OF WICKER LARGE    40.0   \n",
       "175     536386       84880                WHITE WIRE EGG HOLDER    36.0   \n",
       "176     536386      85099C       JUMBO  BAG BAROQUE BLACK WHITE   100.0   \n",
       "177     536386      85099B              JUMBO BAG RED RETROSPOT   100.0   \n",
       "178     536387       79321                        CHILLI LIGHTS   192.0   \n",
       "179     536387       22780       LIGHT GARLAND BUTTERFILES PINK   192.0   \n",
       "\n",
       "    Tanggal_Transaksi  Harga_Satuan  Kode_Pelanggan          Negara  \n",
       "9      12/1/2010 8:34          1.69         13047.0  United Kingdom  \n",
       "31     12/1/2010 8:45          0.85         12583.0          France  \n",
       "44     12/1/2010 8:45          0.65         12583.0          France  \n",
       "46     12/1/2010 9:00          2.55         13748.0  United Kingdom  \n",
       "65     12/1/2010 9:09         10.95         15100.0  United Kingdom  \n",
       "82     12/1/2010 9:32          3.45         15291.0  United Kingdom  \n",
       "83     12/1/2010 9:32          2.55         15291.0  United Kingdom  \n",
       "96     12/1/2010 9:37          0.42         14688.0  United Kingdom  \n",
       "101    12/1/2010 9:37          1.25         14688.0  United Kingdom  \n",
       "102    12/1/2010 9:37          0.38         14688.0  United Kingdom  \n",
       "139    12/1/2010 9:41          1.06         15311.0  United Kingdom  \n",
       "147    12/1/2010 9:45          1.85         16098.0  United Kingdom  \n",
       "156    12/1/2010 9:53          0.65         18074.0  United Kingdom  \n",
       "160    12/1/2010 9:53          1.45         18074.0  United Kingdom  \n",
       "161    12/1/2010 9:53          2.55         18074.0  United Kingdom  \n",
       "175    12/1/2010 9:57          4.95         16029.0  United Kingdom  \n",
       "176    12/1/2010 9:57          1.65         16029.0  United Kingdom  \n",
       "177    12/1/2010 9:57          1.65         16029.0  United Kingdom  \n",
       "178    12/1/2010 9:58          3.82         16029.0  United Kingdom  \n",
       "179    12/1/2010 9:58          3.37         16029.0  United Kingdom  "
      ]
     },
     "execution_count": 14,
     "metadata": {},
     "output_type": "execute_result"
    }
   ],
   "source": [
    "outliers_up = df[df['Jumlah'] > upper_bound].head(20)\n",
    "outliers_up"
   ]
  },
  {
   "cell_type": "code",
   "execution_count": 15,
   "metadata": {
    "ExecuteTime": {
     "end_time": "2021-03-05T07:58:24.114042Z",
     "start_time": "2021-03-05T07:58:24.020269Z"
    },
    "id": "UJKdQzqRCmUn"
   },
   "outputs": [
    {
     "name": "stderr",
     "output_type": "stream",
     "text": [
      "D:\\Anaconda\\lib\\site-packages\\pandas\\core\\indexing.py:494: SettingWithCopyWarning: \n",
      "A value is trying to be set on a copy of a slice from a DataFrame.\n",
      "Try using .loc[row_indexer,col_indexer] = value instead\n",
      "\n",
      "See the caveats in the documentation: http://pandas.pydata.org/pandas-docs/stable/user_guide/indexing.html#returning-a-view-versus-a-copy\n",
      "  self.obj[item] = s\n"
     ]
    }
   ],
   "source": [
    "def remove_outlier(df_in, col_name):\n",
    "    q1 = df_in[col_name].quantile(0.25)\n",
    "    q3 = df_in[col_name].quantile(0.75)\n",
    "    iqr = q3-q1 #Interquartile range\n",
    "    fence_low  = q1-1.5*iqr\n",
    "    fence_high = q3+1.5*iqr\n",
    "    df_out = df_in.loc[(df_in[col_name] > fence_low) & (df_in[col_name] < fence_high)]\n",
    "    df_out.loc[df_out[\"Jumlah\"] <= 0,\"Jumlah\"] *= -1\n",
    "    return df_out\n",
    "new_df = remove_outlier(df, \"Jumlah\")"
   ]
  },
  {
   "cell_type": "code",
   "execution_count": 16,
   "metadata": {
    "ExecuteTime": {
     "end_time": "2021-03-05T07:58:24.165879Z",
     "start_time": "2021-03-05T07:58:24.115016Z"
    },
    "id": "dCanciyUEeeT"
   },
   "outputs": [
    {
     "data": {
      "text/html": [
       "<div>\n",
       "<style scoped>\n",
       "    .dataframe tbody tr th:only-of-type {\n",
       "        vertical-align: middle;\n",
       "    }\n",
       "\n",
       "    .dataframe tbody tr th {\n",
       "        vertical-align: top;\n",
       "    }\n",
       "\n",
       "    .dataframe thead th {\n",
       "        text-align: right;\n",
       "    }\n",
       "</style>\n",
       "<table border=\"1\" class=\"dataframe\">\n",
       "  <thead>\n",
       "    <tr style=\"text-align: right;\">\n",
       "      <th></th>\n",
       "      <th>Jumlah</th>\n",
       "      <th>Harga_Satuan</th>\n",
       "      <th>Kode_Pelanggan</th>\n",
       "    </tr>\n",
       "  </thead>\n",
       "  <tbody>\n",
       "    <tr>\n",
       "      <td>count</td>\n",
       "      <td>371538.000000</td>\n",
       "      <td>371538.000000</td>\n",
       "      <td>371538.000000</td>\n",
       "    </tr>\n",
       "    <tr>\n",
       "      <td>mean</td>\n",
       "      <td>6.992240</td>\n",
       "      <td>3.630326</td>\n",
       "      <td>15296.145856</td>\n",
       "    </tr>\n",
       "    <tr>\n",
       "      <td>std</td>\n",
       "      <td>6.626299</td>\n",
       "      <td>72.520336</td>\n",
       "      <td>1713.179321</td>\n",
       "    </tr>\n",
       "    <tr>\n",
       "      <td>min</td>\n",
       "      <td>1.000000</td>\n",
       "      <td>0.000000</td>\n",
       "      <td>12347.000000</td>\n",
       "    </tr>\n",
       "    <tr>\n",
       "      <td>25%</td>\n",
       "      <td>2.000000</td>\n",
       "      <td>1.250000</td>\n",
       "      <td>13969.000000</td>\n",
       "    </tr>\n",
       "    <tr>\n",
       "      <td>50%</td>\n",
       "      <td>4.000000</td>\n",
       "      <td>1.950000</td>\n",
       "      <td>15163.000000</td>\n",
       "    </tr>\n",
       "    <tr>\n",
       "      <td>75%</td>\n",
       "      <td>12.000000</td>\n",
       "      <td>3.750000</td>\n",
       "      <td>16800.000000</td>\n",
       "    </tr>\n",
       "    <tr>\n",
       "      <td>max</td>\n",
       "      <td>26.000000</td>\n",
       "      <td>38970.000000</td>\n",
       "      <td>18287.000000</td>\n",
       "    </tr>\n",
       "  </tbody>\n",
       "</table>\n",
       "</div>"
      ],
      "text/plain": [
       "              Jumlah   Harga_Satuan  Kode_Pelanggan\n",
       "count  371538.000000  371538.000000   371538.000000\n",
       "mean        6.992240       3.630326    15296.145856\n",
       "std         6.626299      72.520336     1713.179321\n",
       "min         1.000000       0.000000    12347.000000\n",
       "25%         2.000000       1.250000    13969.000000\n",
       "50%         4.000000       1.950000    15163.000000\n",
       "75%        12.000000       3.750000    16800.000000\n",
       "max        26.000000   38970.000000    18287.000000"
      ]
     },
     "execution_count": 16,
     "metadata": {},
     "output_type": "execute_result"
    }
   ],
   "source": [
    "new_df.describe()"
   ]
  },
  {
   "cell_type": "markdown",
   "metadata": {
    "id": "RwqJbPOLJSOW"
   },
   "source": [
    "1. What items customers buy the most and are there any items we should ignore?"
   ]
  },
  {
   "cell_type": "code",
   "execution_count": 17,
   "metadata": {
    "ExecuteTime": {
     "end_time": "2021-03-05T07:58:24.257634Z",
     "start_time": "2021-03-05T07:58:24.166877Z"
    },
    "id": "z61-MlE6IW3E"
   },
   "outputs": [
    {
     "data": {
      "text/plain": [
       "Kode_Barang  Barang                            \n",
       "21212        PACK OF 72 RETROSPOT CAKE CASES       15001.0\n",
       "84879        ASSORTED COLOUR BIRD ORNAMENT         13552.0\n",
       "85099B       JUMBO BAG RED RETROSPOT               12284.0\n",
       "85123A       WHITE HANGING HEART T-LIGHT HOLDER    10890.0\n",
       "20725        LUNCH BAG RED RETROSPOT                9878.0\n",
       "22961        JAM MAKING SET PRINTED                 8731.0\n",
       "21977        PACK OF 60 PINK PAISLEY CAKE CASES     8503.0\n",
       "84991        60 TEATIME FAIRY CAKE CASES            8381.0\n",
       "22423        REGENCY CAKESTAND 3 TIER               7893.0\n",
       "22178        VICTORIAN GLASS HANGING T-LIGHT        7693.0\n",
       "Name: Jumlah, dtype: float64"
      ]
     },
     "execution_count": 17,
     "metadata": {},
     "output_type": "execute_result"
    }
   ],
   "source": [
    "#What items customers buy the most\n",
    "item = new_df.groupby(['Kode_Barang','Barang'])['Jumlah'].sum().sort_values(ascending=False).head(10)\n",
    "item"
   ]
  },
  {
   "cell_type": "code",
   "execution_count": null,
   "metadata": {
    "id": "uNU37xaXP1lm"
   },
   "outputs": [],
   "source": []
  },
  {
   "cell_type": "code",
   "execution_count": 18,
   "metadata": {
    "ExecuteTime": {
     "end_time": "2021-03-05T07:58:24.351388Z",
     "start_time": "2021-03-05T07:58:24.258632Z"
    },
    "id": "v2lQE4_WJPIK"
   },
   "outputs": [
    {
     "data": {
      "text/plain": [
       "Kode_Barang  Barang                          \n",
       "90078        PINK/WHITE GLASS DEMI CHOKER        2.0\n",
       "20964        POLYESTER FILLER PAD 60x40cm        2.0\n",
       "90014B       GOLD M.O.P. ORBIT NECKLACE          2.0\n",
       "90176B       DIAMANTE NECKLACE BLACK             2.0\n",
       "84614A       PINK BAROQUE FLOCK CANDLE HOLDER    2.0\n",
       "                                                ... \n",
       "84743C       ORANGE FELT VASE + FLOWERS          1.0\n",
       "20667        CHERRY BLOSSOM PURSE                1.0\n",
       "85144        JARDIN ETCHED GLASS BUTTER DISH     1.0\n",
       "90165B       WHITE ROSEBUD  PEARL EARRINGS       1.0\n",
       "20957        PORCELAIN HANGING BELL SMALL        1.0\n",
       "Name: Jumlah, Length: 100, dtype: float64"
      ]
     },
     "execution_count": 18,
     "metadata": {},
     "output_type": "execute_result"
    }
   ],
   "source": [
    "#Are there any items we should ignore?\n",
    "itemt = new_df.groupby(['Kode_Barang','Barang'])['Jumlah'].sum().sort_values(ascending=False).tail(100)\n",
    "itemt"
   ]
  },
  {
   "cell_type": "code",
   "execution_count": 19,
   "metadata": {
    "ExecuteTime": {
     "end_time": "2021-03-05T07:58:24.356375Z",
     "start_time": "2021-03-05T07:58:24.352385Z"
    },
    "id": "yK5NoEskQpTS"
   },
   "outputs": [
    {
     "ename": "SyntaxError",
     "evalue": "invalid syntax (<ipython-input-19-ec32597ae81f>, line 1)",
     "output_type": "error",
     "traceback": [
      "\u001b[1;36m  File \u001b[1;32m\"<ipython-input-19-ec32597ae81f>\"\u001b[1;36m, line \u001b[1;32m1\u001b[0m\n\u001b[1;33m    tidak_laku = new_df.groupby(['Kode_Barang','Barang'])['Jumlah'].sum() < 100 ]\u001b[0m\n\u001b[1;37m                                                                                ^\u001b[0m\n\u001b[1;31mSyntaxError\u001b[0m\u001b[1;31m:\u001b[0m invalid syntax\n"
     ]
    }
   ],
   "source": [
    "tidak_laku = new_df.groupby(['Kode_Barang','Barang'])['Jumlah'].sum() < 100 ]"
   ]
  },
  {
   "cell_type": "code",
   "execution_count": null,
   "metadata": {
    "ExecuteTime": {
     "end_time": "2021-03-05T07:58:24.359366Z",
     "start_time": "2021-03-05T07:58:15.033Z"
    },
    "id": "LbShMugqQ3fJ"
   },
   "outputs": [],
   "source": [
    "tidak_laku"
   ]
  },
  {
   "cell_type": "code",
   "execution_count": null,
   "metadata": {
    "id": "RImByw7jS2Gy"
   },
   "outputs": [],
   "source": []
  },
  {
   "cell_type": "markdown",
   "metadata": {
    "id": "m2bM9EvbTEeg"
   },
   "source": [
    "NOMOR 2"
   ]
  },
  {
   "cell_type": "markdown",
   "metadata": {
    "id": "ex1uFnXRS24x"
   },
   "source": [
    "NOMOR 3"
   ]
  },
  {
   "cell_type": "code",
   "execution_count": 20,
   "metadata": {
    "ExecuteTime": {
     "end_time": "2021-03-05T07:59:31.148659Z",
     "start_time": "2021-03-05T07:59:31.135694Z"
    },
    "id": "aJjmoBPZS4J5"
   },
   "outputs": [
    {
     "data": {
      "text/html": [
       "<div>\n",
       "<style scoped>\n",
       "    .dataframe tbody tr th:only-of-type {\n",
       "        vertical-align: middle;\n",
       "    }\n",
       "\n",
       "    .dataframe tbody tr th {\n",
       "        vertical-align: top;\n",
       "    }\n",
       "\n",
       "    .dataframe thead th {\n",
       "        text-align: right;\n",
       "    }\n",
       "</style>\n",
       "<table border=\"1\" class=\"dataframe\">\n",
       "  <thead>\n",
       "    <tr style=\"text-align: right;\">\n",
       "      <th></th>\n",
       "      <th>Kode_Pelanggan</th>\n",
       "      <th>Jumlah</th>\n",
       "      <th>Harga_Satuan</th>\n",
       "    </tr>\n",
       "  </thead>\n",
       "  <tbody>\n",
       "    <tr>\n",
       "      <td>0</td>\n",
       "      <td>17850.0</td>\n",
       "      <td>6.0</td>\n",
       "      <td>2.55</td>\n",
       "    </tr>\n",
       "    <tr>\n",
       "      <td>1</td>\n",
       "      <td>17850.0</td>\n",
       "      <td>6.0</td>\n",
       "      <td>3.39</td>\n",
       "    </tr>\n",
       "    <tr>\n",
       "      <td>2</td>\n",
       "      <td>17850.0</td>\n",
       "      <td>8.0</td>\n",
       "      <td>2.75</td>\n",
       "    </tr>\n",
       "    <tr>\n",
       "      <td>3</td>\n",
       "      <td>17850.0</td>\n",
       "      <td>6.0</td>\n",
       "      <td>3.39</td>\n",
       "    </tr>\n",
       "    <tr>\n",
       "      <td>4</td>\n",
       "      <td>17850.0</td>\n",
       "      <td>6.0</td>\n",
       "      <td>3.39</td>\n",
       "    </tr>\n",
       "  </tbody>\n",
       "</table>\n",
       "</div>"
      ],
      "text/plain": [
       "   Kode_Pelanggan  Jumlah  Harga_Satuan\n",
       "0         17850.0     6.0          2.55\n",
       "1         17850.0     6.0          3.39\n",
       "2         17850.0     8.0          2.75\n",
       "3         17850.0     6.0          3.39\n",
       "4         17850.0     6.0          3.39"
      ]
     },
     "execution_count": 20,
     "metadata": {},
     "output_type": "execute_result"
    }
   ],
   "source": [
    "# customer segmentation\n",
    "clust_df = new_df[['Kode_Pelanggan','Jumlah','Harga_Satuan']]\n",
    "clust_df.head()"
   ]
  },
  {
   "cell_type": "code",
   "execution_count": 21,
   "metadata": {
    "ExecuteTime": {
     "end_time": "2021-03-05T07:59:31.455099Z",
     "start_time": "2021-03-05T07:59:31.440149Z"
    },
    "id": "5xAJqUJdTOfX"
   },
   "outputs": [
    {
     "name": "stderr",
     "output_type": "stream",
     "text": [
      "D:\\Anaconda\\lib\\site-packages\\ipykernel_launcher.py:1: SettingWithCopyWarning: \n",
      "A value is trying to be set on a copy of a slice from a DataFrame.\n",
      "Try using .loc[row_indexer,col_indexer] = value instead\n",
      "\n",
      "See the caveats in the documentation: http://pandas.pydata.org/pandas-docs/stable/user_guide/indexing.html#returning-a-view-versus-a-copy\n",
      "  \"\"\"Entry point for launching an IPython kernel.\n"
     ]
    },
    {
     "data": {
      "text/html": [
       "<div>\n",
       "<style scoped>\n",
       "    .dataframe tbody tr th:only-of-type {\n",
       "        vertical-align: middle;\n",
       "    }\n",
       "\n",
       "    .dataframe tbody tr th {\n",
       "        vertical-align: top;\n",
       "    }\n",
       "\n",
       "    .dataframe thead th {\n",
       "        text-align: right;\n",
       "    }\n",
       "</style>\n",
       "<table border=\"1\" class=\"dataframe\">\n",
       "  <thead>\n",
       "    <tr style=\"text-align: right;\">\n",
       "      <th></th>\n",
       "      <th>Kode_Pelanggan</th>\n",
       "      <th>Jumlah</th>\n",
       "      <th>Harga_Satuan</th>\n",
       "      <th>Harga_Total</th>\n",
       "    </tr>\n",
       "  </thead>\n",
       "  <tbody>\n",
       "    <tr>\n",
       "      <td>0</td>\n",
       "      <td>17850.0</td>\n",
       "      <td>6.0</td>\n",
       "      <td>2.55</td>\n",
       "      <td>15.30</td>\n",
       "    </tr>\n",
       "    <tr>\n",
       "      <td>1</td>\n",
       "      <td>17850.0</td>\n",
       "      <td>6.0</td>\n",
       "      <td>3.39</td>\n",
       "      <td>20.34</td>\n",
       "    </tr>\n",
       "    <tr>\n",
       "      <td>2</td>\n",
       "      <td>17850.0</td>\n",
       "      <td>8.0</td>\n",
       "      <td>2.75</td>\n",
       "      <td>22.00</td>\n",
       "    </tr>\n",
       "    <tr>\n",
       "      <td>3</td>\n",
       "      <td>17850.0</td>\n",
       "      <td>6.0</td>\n",
       "      <td>3.39</td>\n",
       "      <td>20.34</td>\n",
       "    </tr>\n",
       "    <tr>\n",
       "      <td>4</td>\n",
       "      <td>17850.0</td>\n",
       "      <td>6.0</td>\n",
       "      <td>3.39</td>\n",
       "      <td>20.34</td>\n",
       "    </tr>\n",
       "  </tbody>\n",
       "</table>\n",
       "</div>"
      ],
      "text/plain": [
       "   Kode_Pelanggan  Jumlah  Harga_Satuan  Harga_Total\n",
       "0         17850.0     6.0          2.55        15.30\n",
       "1         17850.0     6.0          3.39        20.34\n",
       "2         17850.0     8.0          2.75        22.00\n",
       "3         17850.0     6.0          3.39        20.34\n",
       "4         17850.0     6.0          3.39        20.34"
      ]
     },
     "execution_count": 21,
     "metadata": {},
     "output_type": "execute_result"
    }
   ],
   "source": [
    "clust_df['Harga_Total'] = clust_df['Jumlah'] * clust_df['Harga_Satuan']\n",
    "clust_df.head()"
   ]
  },
  {
   "cell_type": "code",
   "execution_count": 22,
   "metadata": {
    "ExecuteTime": {
     "end_time": "2021-03-05T07:59:31.622651Z",
     "start_time": "2021-03-05T07:59:31.580763Z"
    },
    "id": "K9UNqfqZTedl"
   },
   "outputs": [
    {
     "data": {
      "text/html": [
       "<div>\n",
       "<style scoped>\n",
       "    .dataframe tbody tr th:only-of-type {\n",
       "        vertical-align: middle;\n",
       "    }\n",
       "\n",
       "    .dataframe tbody tr th {\n",
       "        vertical-align: top;\n",
       "    }\n",
       "\n",
       "    .dataframe thead th {\n",
       "        text-align: right;\n",
       "    }\n",
       "</style>\n",
       "<table border=\"1\" class=\"dataframe\">\n",
       "  <thead>\n",
       "    <tr style=\"text-align: right;\">\n",
       "      <th></th>\n",
       "      <th>Jumlah</th>\n",
       "      <th>Harga_Total</th>\n",
       "    </tr>\n",
       "    <tr>\n",
       "      <th>Kode_Pelanggan</th>\n",
       "      <th></th>\n",
       "      <th></th>\n",
       "    </tr>\n",
       "  </thead>\n",
       "  <tbody>\n",
       "    <tr>\n",
       "      <td>12347.0</td>\n",
       "      <td>1912.0</td>\n",
       "      <td>3633.38</td>\n",
       "    </tr>\n",
       "    <tr>\n",
       "      <td>12348.0</td>\n",
       "      <td>149.0</td>\n",
       "      <td>450.20</td>\n",
       "    </tr>\n",
       "    <tr>\n",
       "      <td>12349.0</td>\n",
       "      <td>559.0</td>\n",
       "      <td>1667.55</td>\n",
       "    </tr>\n",
       "    <tr>\n",
       "      <td>12350.0</td>\n",
       "      <td>197.0</td>\n",
       "      <td>334.40</td>\n",
       "    </tr>\n",
       "    <tr>\n",
       "      <td>12352.0</td>\n",
       "      <td>602.0</td>\n",
       "      <td>3466.67</td>\n",
       "    </tr>\n",
       "  </tbody>\n",
       "</table>\n",
       "</div>"
      ],
      "text/plain": [
       "                Jumlah  Harga_Total\n",
       "Kode_Pelanggan                     \n",
       "12347.0         1912.0      3633.38\n",
       "12348.0          149.0       450.20\n",
       "12349.0          559.0      1667.55\n",
       "12350.0          197.0       334.40\n",
       "12352.0          602.0      3466.67"
      ]
     },
     "execution_count": 22,
     "metadata": {},
     "output_type": "execute_result"
    }
   ],
   "source": [
    "# group by \"Kode_Pelanggan\"\n",
    "group_df = clust_df.groupby(['Kode_Pelanggan']).sum()\n",
    "group_df.drop(columns='Harga_Satuan', inplace=True)\n",
    "group_df.head()"
   ]
  },
  {
   "cell_type": "code",
   "execution_count": 23,
   "metadata": {
    "ExecuteTime": {
     "end_time": "2021-03-05T07:59:31.970296Z",
     "start_time": "2021-03-05T07:59:31.753301Z"
    },
    "id": "XWBJqcJcTf0h"
   },
   "outputs": [
    {
     "data": {
      "text/plain": [
       "Text(0, 0.5, 'Total Harga Pembelian')"
      ]
     },
     "execution_count": 23,
     "metadata": {},
     "output_type": "execute_result"
    },
    {
     "data": {
      "image/png": "[encoded data removed]",
      "text/plain": [
       "<Figure size 432x288 with 1 Axes>"
      ]
     },
     "metadata": {
      "needs_background": "light"
     },
     "output_type": "display_data"
    }
   ],
   "source": [
    "# plot data\n",
    "import matplotlib.pyplot as plt\n",
    "\n",
    "plt.scatter(group_df['Jumlah'], group_df['Harga_Total'])\n",
    "plt.xlabel('Jumlah Pembelian', fontsize=18)\n",
    "plt.ylabel('Total Harga Pembelian', fontsize=16)"
   ]
  },
  {
   "cell_type": "code",
   "execution_count": 27,
   "metadata": {
    "ExecuteTime": {
     "end_time": "2021-03-05T07:59:41.408976Z",
     "start_time": "2021-03-05T07:59:41.404987Z"
    },
    "id": "PZBktYJ3Tibd"
   },
   "outputs": [],
   "source": [
    "from sklearn.cluster import KMeans \n",
    "k_means = KMeans(init = \"k-means++\", n_clusters = 2, n_init = 10)"
   ]
  },
  {
   "cell_type": "code",
   "execution_count": 28,
   "metadata": {
    "ExecuteTime": {
     "end_time": "2021-03-05T07:59:41.634403Z",
     "start_time": "2021-03-05T07:59:41.593513Z"
    },
    "id": "nmO2ddkJTn39"
   },
   "outputs": [
    {
     "data": {
      "text/plain": [
       "KMeans(n_clusters=2)"
      ]
     },
     "execution_count": 28,
     "metadata": {},
     "output_type": "execute_result"
    }
   ],
   "source": [
    "# fit data to clustering model\n",
    "X = group_df.values\n",
    "k_means.fit(X)"
   ]
  },
  {
   "cell_type": "code",
   "execution_count": 29,
   "metadata": {
    "ExecuteTime": {
     "end_time": "2021-03-05T07:59:42.001504Z",
     "start_time": "2021-03-05T07:59:41.997486Z"
    },
    "id": "sWh-YwufTrrf"
   },
   "outputs": [
    {
     "data": {
      "text/plain": [
       "array([[  567.48191639,  1165.81392297],\n",
       "       [12967.5       , 38906.075     ]])"
      ]
     },
     "execution_count": 29,
     "metadata": {},
     "output_type": "execute_result"
    }
   ],
   "source": [
    "# cluster centers\n",
    "k_means_cluster_centers = k_means.cluster_centers_\n",
    "k_means_cluster_centers"
   ]
  },
  {
   "cell_type": "code",
   "execution_count": null,
   "metadata": {},
   "outputs": [],
   "source": []
  }
 ],
 "metadata": {
  "colab": {
   "collapsed_sections": [],
   "name": "Minicase Machine Learning - Kelompok 1",
   "provenance": []
  },
  "kernelspec": {
   "display_name": "Python 3",
   "language": "python",
   "name": "python3"
  },
  "language_info": {
   "codemirror_mode": {
    "name": "ipython",
    "version": 3
   },
   "file_extension": ".py",
   "mimetype": "text/x-python",
   "name": "python",
   "nbconvert_exporter": "python",
   "pygments_lexer": "ipython3",
   "version": "3.7.4"
  },
  "toc": {
   "base_numbering": 1,
   "nav_menu": {},
   "number_sections": true,
   "sideBar": true,
   "skip_h1_title": false,
   "title_cell": "Table of Contents",
   "title_sidebar": "Contents",
   "toc_cell": false,
   "toc_position": {},
   "toc_section_display": true,
   "toc_window_display": false
  },
  "varInspector": {
   "cols": {
    "lenName": 16,
    "lenType": 16,
    "lenVar": 40
   },
   "kernels_config": {
    "python": {
     "delete_cmd_postfix": "",
     "delete_cmd_prefix": "del ",
     "library": "var_list.py",
     "varRefreshCmd": "print(var_dic_list())"
    },
    "r": {
     "delete_cmd_postfix": ") ",
     "delete_cmd_prefix": "rm(",
     "library": "var_list.r",
     "varRefreshCmd": "cat(var_dic_list()) "
    }
   },
   "types_to_exclude": [
    "module",
    "function",
    "builtin_function_or_method",
    "instance",
    "_Feature"
   ],
   "window_display": false
  }
 },
 "nbformat": 4,
 "nbformat_minor": 1
}
